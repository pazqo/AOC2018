{
 "cells": [
  {
   "cell_type": "markdown",
   "metadata": {},
   "source": [
    "# Day 2\n",
    "\n",
    "[Day 2 description](https://adventofcode.com/2018/day/2)\n",
    "\n",
    "By using the Counter collection in Python, this is pretty straigh forward."
   ]
  },
  {
   "cell_type": "code",
   "execution_count": 1,
   "metadata": {
    "collapsed": true
   },
   "outputs": [],
   "source": [
    "from collections import Counter"
   ]
  },
  {
   "cell_type": "code",
   "execution_count": 2,
   "metadata": {
    "collapsed": true
   },
   "outputs": [],
   "source": [
    "rows = []\n",
    "with open('AOC2018_02_input.txt') as f:\n",
    "    for raw in f.readlines():\n",
    "        rows.append(raw.strip())"
   ]
  },
  {
   "cell_type": "markdown",
   "metadata": {},
   "source": [
    "We keep two counters; for each word, `Counter(w)` is a map `chr -> int` so the `values` is how many time that char appears in the string. If `2 in values`, then we have a character appearing exactly twice (and the same holds for 3)."
   ]
  },
  {
   "cell_type": "code",
   "execution_count": 3,
   "metadata": {
    "collapsed": false
   },
   "outputs": [
    {
     "data": {
      "text/plain": [
       "6000"
      ]
     },
     "execution_count": 3,
     "metadata": {},
     "output_type": "execute_result"
    }
   ],
   "source": [
    "n_2, n_3 = 0, 0\n",
    "for row in rows:\n",
    "    vals = set(Counter(row).values())\n",
    "    if 2 in vals:\n",
    "        n_2 += 1\n",
    "    if 3 in vals:\n",
    "        n_3 += 1\n",
    "n_2 * n_3"
   ]
  },
  {
   "cell_type": "markdown",
   "metadata": {},
   "source": [
    "For the second part, a `O(n^2)` implementation would check for each pair of words, if the differ by exactly one char. By the way, we can do better, i.e. `O(n*k)` where `k` is the lenght of the words. For each position `range(k)`, we remove that letter from each word and we check if there's a match (again: we use Counter and check if we have a `value >1`; if that's the case, we have a common substring and the corresponding  `key` is the answer."
   ]
  },
  {
   "cell_type": "code",
   "execution_count": 4,
   "metadata": {
    "collapsed": true
   },
   "outputs": [],
   "source": [
    "def remove_letter(s, i):\n",
    "    return s[:i] + s[i+1:]"
   ]
  },
  {
   "cell_type": "code",
   "execution_count": 5,
   "metadata": {
    "collapsed": false
   },
   "outputs": [
    {
     "name": "stdout",
     "output_type": "stream",
     "text": [
      "pbykrmjmizwhxlqnasfgtycdv\n"
     ]
    }
   ],
   "source": [
    "for i in range(len(rows[0])):\n",
    "    short_words = [remove_letter(s, i) for s in rows]\n",
    "    s, c = Counter(short_words).most_common(1)[0]\n",
    "    if c > 1:\n",
    "        print(s)"
   ]
  }
 ],
 "metadata": {
  "anaconda-cloud": {},
  "kernelspec": {
   "display_name": "Python [default]",
   "language": "python",
   "name": "python3"
  },
  "language_info": {
   "codemirror_mode": {
    "name": "ipython",
    "version": 3
   },
   "file_extension": ".py",
   "mimetype": "text/x-python",
   "name": "python",
   "nbconvert_exporter": "python",
   "pygments_lexer": "ipython3",
   "version": "3.4.5"
  }
 },
 "nbformat": 4,
 "nbformat_minor": 1
}
