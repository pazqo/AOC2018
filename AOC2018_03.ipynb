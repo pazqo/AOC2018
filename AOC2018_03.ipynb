{
 "cells": [
  {
   "cell_type": "markdown",
   "metadata": {},
   "source": [
    "# Day 3\n",
    "\n",
    "[Day 3 description](https://adventofcode.com/2018/day/3)\n",
    "\n",
    "I liked this one. Again, a smart use of the Counter helps a lot."
   ]
  },
  {
   "cell_type": "code",
   "execution_count": 1,
   "metadata": {
    "collapsed": true
   },
   "outputs": [],
   "source": [
    "from collections import Counter\n",
    "import re"
   ]
  },
  {
   "cell_type": "code",
   "execution_count": 2,
   "metadata": {
    "collapsed": true
   },
   "outputs": [],
   "source": [
    "raws = []\n",
    "with open('AOC2018_03_input.txt') as f:\n",
    "    raws = [x.strip() for x in f.readlines()]"
   ]
  },
  {
   "cell_type": "code",
   "execution_count": 3,
   "metadata": {
    "collapsed": false
   },
   "outputs": [],
   "source": [
    "p = re.compile(\"#(\\d+) @ (\\d+),(\\d+): (\\d+)x(\\d+)\")"
   ]
  },
  {
   "cell_type": "code",
   "execution_count": 4,
   "metadata": {
    "collapsed": true
   },
   "outputs": [],
   "source": [
    "def parse_row(row):\n",
    "    return [int(x) for x in p.findall(row)[0]]"
   ]
  },
  {
   "cell_type": "markdown",
   "metadata": {},
   "source": [
    "For each rectangle description, we parse it and we collect all coordinates in a set. We feed this set to the counter `c`; we also keep track of a map `id_ -> points` for each rectangle, which will be useful for part 2. At the end of the cycle, for each point belonging to at least one rectangle, we have the number of reactangles over that point. Hence, for the first part we just need to count all `values > 1`. Again, we will make use of the same counter for part 2."
   ]
  },
  {
   "cell_type": "code",
   "execution_count": 5,
   "metadata": {
    "collapsed": false
   },
   "outputs": [],
   "source": [
    "c = Counter()\n",
    "rectangles = dict()\n",
    "for raw in raws:\n",
    "    id_, l, t, w, h = parse_row(raw)\n",
    "    coords = {(l + i, t + j) for i in range(w) for j in range(h)}\n",
    "    rectangles[id_] = coords\n",
    "    c.update(coords)"
   ]
  },
  {
   "cell_type": "code",
   "execution_count": 6,
   "metadata": {
    "collapsed": false
   },
   "outputs": [
    {
     "data": {
      "text/plain": [
       "107043"
      ]
     },
     "execution_count": 6,
     "metadata": {},
     "output_type": "execute_result"
    }
   ],
   "source": [
    "# this is the same as len([x for x in c.values() if x > 1])\n",
    "sum(x > 1 for x in c.values())"
   ]
  },
  {
   "cell_type": "markdown",
   "metadata": {},
   "source": [
    "For the second part, we make use of the previous counter and the `id_ -> points` map. We collect all point which belong to at most one recatangle (`values == 1`). Then we cycle on the recatangles map. For each `id_` if the corresponding reactangle is completely contained in the `single_claims` list, it means that the rectangle does not overlap. We output the `id_` of the only match."
   ]
  },
  {
   "cell_type": "code",
   "execution_count": 7,
   "metadata": {
    "collapsed": false
   },
   "outputs": [],
   "source": [
    "single_claims = {x for x, v in c.items() if v == 1}"
   ]
  },
  {
   "cell_type": "code",
   "execution_count": 8,
   "metadata": {
    "collapsed": false
   },
   "outputs": [
    {
     "name": "stdout",
     "output_type": "stream",
     "text": [
      "346\n"
     ]
    }
   ],
   "source": [
    "for id_, points in rectangles.items():\n",
    "    if len(points) == len(points.intersection(single_claims)):\n",
    "        print(id_)\n",
    "        break"
   ]
  }
 ],
 "metadata": {
  "anaconda-cloud": {},
  "kernelspec": {
   "display_name": "Python [default]",
   "language": "python",
   "name": "python3"
  },
  "language_info": {
   "codemirror_mode": {
    "name": "ipython",
    "version": 3
   },
   "file_extension": ".py",
   "mimetype": "text/x-python",
   "name": "python",
   "nbconvert_exporter": "python",
   "pygments_lexer": "ipython3",
   "version": "3.4.5"
  }
 },
 "nbformat": 4,
 "nbformat_minor": 1
}
