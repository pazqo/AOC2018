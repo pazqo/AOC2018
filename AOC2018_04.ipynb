{
 "cells": [
  {
   "cell_type": "markdown",
   "metadata": {},
   "source": [
    "# Day 4\n",
    "\n",
    "[Day 4 description](https://adventofcode.com/2018/day/4)\n",
    "\n",
    "I think that the main problem with this one was to understand what was going on. After figuring it out, the solution is pretty straighforward. I'll make use of `datetime` module to simplify the parsing and the `Counter` as usual."
   ]
  },
  {
   "cell_type": "code",
   "execution_count": 1,
   "metadata": {
    "collapsed": true
   },
   "outputs": [],
   "source": [
    "import re\n",
    "from datetime import datetime, timedelta\n",
    "from collections import Counter, defaultdict"
   ]
  },
  {
   "cell_type": "code",
   "execution_count": 2,
   "metadata": {
    "collapsed": false
   },
   "outputs": [],
   "source": [
    "rows = []\n",
    "with open('AOC2018_04_input.txt') as f:\n",
    "    for raw in f.readlines():\n",
    "        rows.append(raw.strip())\n",
    "# due to datetime format, we can sort rows lexicographically\n",
    "rows.sort()"
   ]
  },
  {
   "cell_type": "markdown",
   "metadata": {},
   "source": [
    "We don't know a priori how many actions will take every guard. We need to group logs by id, then compute how much time is a guard asleep during his turn."
   ]
  },
  {
   "cell_type": "code",
   "execution_count": 3,
   "metadata": {
    "collapsed": false
   },
   "outputs": [],
   "source": [
    "def parse_log(row):\n",
    "    date = datetime.strptime(row[1:17], \"%Y-%m-%d %H:%M\")\n",
    "    action, *rest = row[19:].split(\" \")\n",
    "    if action == 'Guard':\n",
    "        guard_number = rest[0]\n",
    "        awaken = True\n",
    "    else:\n",
    "        guard_number = None\n",
    "        awaken = (action == 'wakes')\n",
    "    return [date, guard_number, awaken]"
   ]
  },
  {
   "cell_type": "code",
   "execution_count": 4,
   "metadata": {
    "collapsed": false
   },
   "outputs": [],
   "source": [
    "parsed_rows = [parse_log(row) for row in rows]"
   ]
  },
  {
   "cell_type": "code",
   "execution_count": 5,
   "metadata": {
    "collapsed": true
   },
   "outputs": [],
   "source": [
    "last_id = None\n",
    "log_by_id = defaultdict(list)\n",
    "for row in rows:\n",
    "    d, guard_id, a = parse_log(row)\n",
    "    if guard_id is None:\n",
    "        guard_id = last_id\n",
    "    else:\n",
    "        last_id = guard_id\n",
    "    log_by_id[last_id].append((d, a))"
   ]
  },
  {
   "cell_type": "markdown",
   "metadata": {},
   "source": [
    "**Strategy 1**: Find the guard that has the most minutes asleep. What minute does that guard spend asleep the most?\n",
    "\n",
    "i.e., rank guards by total minutes asleep, then select the single most frequent minute (regardless of the hour).\n",
    "In order to solve this (and the next part too), for each guard id we collect a counter that keeps track of how many times that guard was asleep during that minute."
   ]
  },
  {
   "cell_type": "code",
   "execution_count": 6,
   "metadata": {
    "collapsed": false
   },
   "outputs": [],
   "source": [
    "def get_minutes_asleep(events):\n",
    "    minutes_when_asleep = Counter()\n",
    "    for event_start, event_stop in zip(events[:-1], events[1:]):\n",
    "        time_start, asleep_start = event_start\n",
    "        time_end, asleep_end  = event_stop\n",
    "        if not asleep_start and asleep_end:\n",
    "            # guard is asleep now!\n",
    "            minutes_asleep = (time_end - time_start).seconds // 60\n",
    "            minutes_when_asleep.update([(time_start + timedelta(minutes=i)).minute for i in range(minutes_asleep)])\n",
    "    return minutes_when_asleep"
   ]
  },
  {
   "cell_type": "code",
   "execution_count": 7,
   "metadata": {
    "collapsed": false
   },
   "outputs": [],
   "source": [
    "minutes_by_id = dict()\n",
    "for id_, events in log_by_id.items():\n",
    "    mas = get_minutes_asleep(events)\n",
    "    minutes_by_id[id_] = mas"
   ]
  },
  {
   "cell_type": "code",
   "execution_count": 8,
   "metadata": {
    "collapsed": false
   },
   "outputs": [
    {
     "data": {
      "text/plain": [
       "84636"
      ]
     },
     "execution_count": 8,
     "metadata": {},
     "output_type": "execute_result"
    }
   ],
   "source": [
    "# guard with most total minutes asleep\n",
    "guard_id = max([(k, sum(v.values())) for k, v in minutes_by_id.items()], key=lambda x: x[1])[0]\n",
    "\n",
    "# most frequent minute for that guard\n",
    "best_minute = minutes_by_id[guard_id].most_common(1)[0][0]\n",
    "\n",
    "int(guard_id[1:]) * best_minute"
   ]
  },
  {
   "cell_type": "markdown",
   "metadata": {},
   "source": [
    "**Strategy 2**: Of all guards, which guard is most frequently asleep on the same minute?\n",
    "\n",
    "i.e. for each guard, rank minutes by times asleep in that minute; then select guard with best record."
   ]
  },
  {
   "cell_type": "code",
   "execution_count": 9,
   "metadata": {
    "collapsed": true
   },
   "outputs": [],
   "source": [
    "# select best minute by guard id\n",
    "record_by_id = dict()\n",
    "for guard_id, minutes in minutes_by_id.items():\n",
    "    best_minute = minutes.most_common(1)\n",
    "    if len(best_minute) == 1:\n",
    "        record_by_id[guard_id] = best_minute[0]"
   ]
  },
  {
   "cell_type": "code",
   "execution_count": 10,
   "metadata": {
    "collapsed": false
   },
   "outputs": [
    {
     "data": {
      "text/plain": [
       "91679"
      ]
     },
     "execution_count": 10,
     "metadata": {},
     "output_type": "execute_result"
    }
   ],
   "source": [
    "guard_id, (best_minute, _) = max(record_by_id.items(), key=lambda x: x[1][1])\n",
    "\n",
    "int(guard_id[1:]) * best_minute"
   ]
  }
 ],
 "metadata": {
  "anaconda-cloud": {},
  "kernelspec": {
   "display_name": "Python [default]",
   "language": "python",
   "name": "python3"
  },
  "language_info": {
   "codemirror_mode": {
    "name": "ipython",
    "version": 3
   },
   "file_extension": ".py",
   "mimetype": "text/x-python",
   "name": "python",
   "nbconvert_exporter": "python",
   "pygments_lexer": "ipython3",
   "version": "3.4.5"
  }
 },
 "nbformat": 4,
 "nbformat_minor": 1
}
