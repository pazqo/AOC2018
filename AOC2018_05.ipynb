{
 "cells": [
  {
   "cell_type": "markdown",
   "metadata": {},
   "source": [
    "# Day 5\n",
    "\n",
    "[Day 5 description](https://adventofcode.com/2018/day/5)\n",
    "\n",
    "I had fun with this. The first approach was to repeatedly contract a single pair of letters, but that would take much more time. Instead, as soon as a pair is retracted, we can check if a new pair can be retracted, just go back one letter!\n",
    "\n",
    "Since this is pretty fast (just a single pass of the whole string), we can use this naively in the second part."
   ]
  },
  {
   "cell_type": "code",
   "execution_count": 1,
   "metadata": {
    "collapsed": true
   },
   "outputs": [],
   "source": [
    "from string import ascii_lowercase, ascii_uppercase"
   ]
  },
  {
   "cell_type": "code",
   "execution_count": 2,
   "metadata": {
    "collapsed": false
   },
   "outputs": [],
   "source": [
    "with open('AOC2018_05_input.txt') as f:\n",
    "    raw = f.read().strip()"
   ]
  },
  {
   "cell_type": "code",
   "execution_count": 3,
   "metadata": {
    "collapsed": false
   },
   "outputs": [],
   "source": [
    "to_remove = set(list(zip(ascii_lowercase, ascii_uppercase)) + list(zip(ascii_uppercase, ascii_lowercase)))"
   ]
  },
  {
   "cell_type": "code",
   "execution_count": 4,
   "metadata": {
    "collapsed": false
   },
   "outputs": [],
   "source": [
    "def retract(raw):\n",
    "    result = ' '\n",
    "    last_letter = ''\n",
    "    for c in raw:\n",
    "        if (last_letter, c) in to_remove:\n",
    "            result = result[:-1]\n",
    "        else:\n",
    "            result += c\n",
    "        last_letter = result[-1]\n",
    "    return result[1:]"
   ]
  },
  {
   "cell_type": "code",
   "execution_count": 5,
   "metadata": {
    "collapsed": false
   },
   "outputs": [
    {
     "data": {
      "text/plain": [
       "9348"
      ]
     },
     "execution_count": 5,
     "metadata": {},
     "output_type": "execute_result"
    }
   ],
   "source": [
    "retracted = retract(raw)\n",
    "len(retracted)"
   ]
  },
  {
   "cell_type": "markdown",
   "metadata": {},
   "source": [
    "For the second part, for each possible character we remove both the lowercase and the uppercase version, then we retract again. We can work with `retracted`, which is smaller. We are looking for the minimum lenght for the new retracted string."
   ]
  },
  {
   "cell_type": "code",
   "execution_count": 6,
   "metadata": {
    "collapsed": false
   },
   "outputs": [
    {
     "data": {
      "text/plain": [
       "4996"
      ]
     },
     "execution_count": 6,
     "metadata": {},
     "output_type": "execute_result"
    }
   ],
   "source": [
    "xs = []\n",
    "for c in ascii_lowercase:\n",
    "    retracted_ = retracted.replace(c, '')\n",
    "    retracted_ = retracted_.replace(c.upper(), '')\n",
    "    xs.append((len(retract(retracted_)), c))\n",
    "min(xs)[0]"
   ]
  }
 ],
 "metadata": {
  "anaconda-cloud": {},
  "kernelspec": {
   "display_name": "Python [default]",
   "language": "python",
   "name": "python3"
  },
  "language_info": {
   "codemirror_mode": {
    "name": "ipython",
    "version": 3
   },
   "file_extension": ".py",
   "mimetype": "text/x-python",
   "name": "python",
   "nbconvert_exporter": "python",
   "pygments_lexer": "ipython3",
   "version": "3.4.5"
  }
 },
 "nbformat": 4,
 "nbformat_minor": 1
}
