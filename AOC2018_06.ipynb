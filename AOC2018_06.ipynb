{
 "cells": [
  {
   "cell_type": "markdown",
   "metadata": {},
   "source": [
    "# Day 6\n",
    "\n",
    "[Day 6 description](https://adventofcode.com/2018/day/6)\n",
    "\n",
    "This is an exercise in [Voronoi tesselation](https://it.wikipedia.org/wiki/Diagramma_di_Voronoi) with the Manhattan distance, which is much easier to deal with. In general, we make use of theoretical results to simplify the computations.\n",
    "\n",
    "The main idea is to find a bounding box for all centroids (the input points); then we assign to each point in the rectangle the corresponding centroid (we use a `defaultdict(list)` to keep track of all areas). If the set of points closer to one centroids intersects the boundary of the bounding box, then the corresponding area is infinite. Moreover, the converse is also true! So we only need to confront areas which do not touch the rectangle!\n",
    "\n",
    "The number of point is limited by the number of points in the rectangle, which is roughly `350x350 = 120.000`. We can check every single point once.\n",
    "\n",
    "**Note**: We may use `numpy` for better performances, but this algorithm is fast enough."
   ]
  },
  {
   "cell_type": "code",
   "execution_count": 1,
   "metadata": {
    "collapsed": true
   },
   "outputs": [],
   "source": [
    "from collections import defaultdict"
   ]
  },
  {
   "cell_type": "code",
   "execution_count": 2,
   "metadata": {
    "collapsed": false
   },
   "outputs": [],
   "source": [
    "centers = []\n",
    "with open('AOC2018_06_input.txt') as f:\n",
    "    raws = f.read().strip().split(\"\\n\")\n",
    "    for raw in raws:\n",
    "        x, y = raw.split(\",\")\n",
    "        centers.append((int(x), int(y)))"
   ]
  },
  {
   "cell_type": "code",
   "execution_count": 3,
   "metadata": {
    "collapsed": true
   },
   "outputs": [],
   "source": [
    "def dist(p1, p2):\n",
    "    x1, y1 = p1\n",
    "    x2, y2 = p2\n",
    "    return abs(x1 - x2) + abs(y1-y2)\n",
    "\n",
    "def closest(p0, centers):\n",
    "    dists = {p: dist(p0,p) for p in centers}\n",
    "    min_dist = min(dists.values())\n",
    "    min_dist_points = {k: v for k, v in dists.items() if v == min_dist}\n",
    "    if len(min_dist_points) == 1:\n",
    "        return next(x for x in min_dist_points)\n",
    "    else:\n",
    "        return None"
   ]
  },
  {
   "cell_type": "code",
   "execution_count": 4,
   "metadata": {
    "collapsed": false
   },
   "outputs": [],
   "source": [
    "max_x = max(x for x, _ in centers)\n",
    "max_y = max(y for _, y in centers)\n",
    "\n",
    "closest_points = defaultdict(list)\n",
    "for x in range(0, max_x+1):\n",
    "    for y in range(0, max_y+1):\n",
    "        c = closest((x,y), centers)\n",
    "        if c is not None:\n",
    "            closest_points[c].append((x,y))"
   ]
  },
  {
   "cell_type": "code",
   "execution_count": 5,
   "metadata": {
    "collapsed": false
   },
   "outputs": [],
   "source": [
    "# we keep track of border points\n",
    "border = set()\n",
    "for x in range(0, max_x+1):\n",
    "    border.add((x, 0))\n",
    "    border.add((x, max_y))\n",
    "for y in range(0, max_y+1):\n",
    "    border.add((0, y))\n",
    "    border.add((max_x, y))\n",
    "    \n",
    "closest_points_border = defaultdict(list)\n",
    "for p in border:\n",
    "    c = closest(p, centers)\n",
    "    if c is not None:\n",
    "        closest_points_border[c].append(p)"
   ]
  },
  {
   "cell_type": "code",
   "execution_count": 6,
   "metadata": {
    "collapsed": false
   },
   "outputs": [],
   "source": [
    "areas = {k: len(v) for k, v in closest_points.items() if not k in closest_points_border}"
   ]
  },
  {
   "cell_type": "code",
   "execution_count": 7,
   "metadata": {
    "collapsed": false
   },
   "outputs": [
    {
     "data": {
      "text/plain": [
       "3989"
      ]
     },
     "execution_count": 7,
     "metadata": {},
     "output_type": "execute_result"
    }
   ],
   "source": [
    "# areas of the biggest region\n",
    "max(areas.items(), key=lambda x: x[1])[1]"
   ]
  },
  {
   "cell_type": "markdown",
   "metadata": {},
   "source": [
    "For the second part, we need to find all points of the plane which sum of distances from all centroids is less than 10000. Again, we check all the points inside the bounding box; then we can check what happens at the border of the box. If we get a point with sum of distances less than 10000, we need to fix the result. Luckily, this does not happen!"
   ]
  },
  {
   "cell_type": "code",
   "execution_count": 8,
   "metadata": {
    "collapsed": true
   },
   "outputs": [],
   "source": [
    "# sum of distances < 10000"
   ]
  },
  {
   "cell_type": "code",
   "execution_count": 9,
   "metadata": {
    "collapsed": true
   },
   "outputs": [],
   "source": [
    "def sum_of_distances(p0, centers):\n",
    "    dists = {p: dist(p0,p) for p in centers}\n",
    "    return sum(dists.values())"
   ]
  },
  {
   "cell_type": "code",
   "execution_count": 10,
   "metadata": {
    "collapsed": false
   },
   "outputs": [
    {
     "name": "stdout",
     "output_type": "stream",
     "text": [
      "0\n"
     ]
    }
   ],
   "source": [
    "points_10000_at_border = []\n",
    "for p in border:\n",
    "    sod = sum_of_distances(p, centers)\n",
    "    if sod < 10000:\n",
    "        points_10000_at_border.append(p)\n",
    "print(len(points_10000_at_border))\n",
    "# No point on border!"
   ]
  },
  {
   "cell_type": "code",
   "execution_count": 11,
   "metadata": {
    "collapsed": false
   },
   "outputs": [
    {
     "data": {
      "text/plain": [
       "49715"
      ]
     },
     "execution_count": 11,
     "metadata": {},
     "output_type": "execute_result"
    }
   ],
   "source": [
    "c = 0\n",
    "for x in range(0, max_x):\n",
    "    for y in range(0, max_y):\n",
    "        sod = sum_of_distances((x,y), centers)\n",
    "        if sod < 10000:\n",
    "            c += 1     \n",
    "c"
   ]
  }
 ],
 "metadata": {
  "anaconda-cloud": {},
  "kernelspec": {
   "display_name": "Python [default]",
   "language": "python",
   "name": "python3"
  },
  "language_info": {
   "codemirror_mode": {
    "name": "ipython",
    "version": 3
   },
   "file_extension": ".py",
   "mimetype": "text/x-python",
   "name": "python",
   "nbconvert_exporter": "python",
   "pygments_lexer": "ipython3",
   "version": "3.4.5"
  }
 },
 "nbformat": 4,
 "nbformat_minor": 1
}
