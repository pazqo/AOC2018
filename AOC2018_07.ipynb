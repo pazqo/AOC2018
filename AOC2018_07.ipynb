{
 "cells": [
  {
   "cell_type": "markdown",
   "metadata": {},
   "source": [
    "# Day 7\n",
    "\n",
    "[Day 7 description](https://adventofcode.com/2018/day/7)\n",
    "\n",
    "Well, this one was the first challenge, at least in the second part. It's a graph-ordering problem. We can model every sentence `Step x must be finished before step y can begin` implies that there's a DAG with nodes `x` and `y` and with a directed path from `x` to `y`. We need to collect all information and build corresponding graph.\n",
    "\n",
    "In general, we want to explore the graph. A node is available when all preceeding nodes are completed. Hence, we start with nodes that are immediatly available, then we upgrade the explored nodes list. If two steps are available, choose the first one alphabetically (i.e. I need to re-compute the list of available steps after every node completed)."
   ]
  },
  {
   "cell_type": "code",
   "execution_count": 1,
   "metadata": {
    "collapsed": true
   },
   "outputs": [],
   "source": [
    "import re\n",
    "from string import ascii_uppercase"
   ]
  },
  {
   "cell_type": "code",
   "execution_count": 2,
   "metadata": {
    "collapsed": true
   },
   "outputs": [],
   "source": [
    "get_row = re.compile(\"Step ([A-Z]+) must be finished before step ([A-Z]+) can begin\")\n",
    "def parse_row(s):\n",
    "    return get_row.findall(s.strip())[0]"
   ]
  },
  {
   "cell_type": "code",
   "execution_count": 3,
   "metadata": {
    "collapsed": false
   },
   "outputs": [],
   "source": [
    "with open('AOC2018_07_input.txt') as f:\n",
    "    edges = [parse_row(r) for r in f.readlines()]"
   ]
  },
  {
   "cell_type": "markdown",
   "metadata": {},
   "source": [
    "The `next_step` function will process current edges, current steps and produce the next step (while trowing away all consumed edges). When only one edge is missing, we collect both nodes."
   ]
  },
  {
   "cell_type": "code",
   "execution_count": 4,
   "metadata": {
    "collapsed": true
   },
   "outputs": [],
   "source": [
    "def next_step(available_edges, steps_done):\n",
    "    if len(available_edges) == 1:\n",
    "        return list(), steps_done + list(available_edges[0])\n",
    "    ss = {e[0] for e in available_edges}\n",
    "    ts = {e[1] for e in available_edges}\n",
    "    last_step = min(ss.difference(ts))\n",
    "    new_edges = [e for e in available_edges if not e[0] == last_step]\n",
    "    return new_edges, steps_done + [last_step]"
   ]
  },
  {
   "cell_type": "code",
   "execution_count": 5,
   "metadata": {
    "collapsed": false
   },
   "outputs": [
    {
     "data": {
      "text/plain": [
       "'AEMNPOJWISZCDFUKBXQTHVLGRY'"
      ]
     },
     "execution_count": 5,
     "metadata": {},
     "output_type": "execute_result"
    }
   ],
   "source": [
    "new_edges = list(edges)\n",
    "new_steps = list()\n",
    "while len(new_edges) > 0:\n",
    "    new_edges, new_steps = next_step(new_edges, new_steps)\n",
    "\"\".join(new_steps)"
   ]
  },
  {
   "cell_type": "markdown",
   "metadata": {},
   "source": [
    "Now for the real challenge! The second part is much tougher. We need to parallelize the job to many workers (5); moreover, every node has it's own timing, i.e., `60 + ordinal number of char`. So for example, step `A` will take `60+1` seconds, `B` will take `60+2`, ..., `Z` will take `60+26`.\n",
    "\n",
    "Again, a step cannot start if every previous step is not completed, which means that we need to care of the fact that a node have to be visited and a certain amount of time should have passed. When no worker is available or no node is available, we need to wait for a node to be completed (of course, time will pass for other workers too). This will free a worker (for sure) and maybe give access to more nodes.\n",
    "\n",
    "Instead of using a class for workers, I use a pair `(n, C)` where `n` is the remaining time and `C` is the current task; so after waiting `n` minutes, task `C` is completed and worker is ready for next task.\n",
    "\n",
    "As a little trick: we add one extra node (`*`) as a target for every \"final\" node. This will make it easier to write the logic."
   ]
  },
  {
   "cell_type": "code",
   "execution_count": 6,
   "metadata": {
    "collapsed": false
   },
   "outputs": [],
   "source": [
    "def reachable_nodes(edges, current_nodes, workers):\n",
    "    avoid = set(current_nodes)\n",
    "    edges_ = [e for e in edges if not e[0] in avoid]\n",
    "    reachables = {e[0] for e in edges_}.difference({e[1] for e in edges_})\n",
    "    reachables = reachables.difference({j for _, j in workers})\n",
    "    return reachables\n",
    "\n",
    "def assign_to_worker(reachables, workers):\n",
    "    reachables = sorted(reachables)\n",
    "    new_workers = list()\n",
    "    assigned = list()\n",
    "    for worker in workers:\n",
    "        if worker[0] != 0 or len(reachables) == 0:\n",
    "            new_workers.append(worker)\n",
    "        else:\n",
    "            next_task, *reachables = reachables\n",
    "            new_workers.append((node_time[next_task], next_task))\n",
    "            assigned.append(next_task)\n",
    "    return new_workers, assigned\n",
    "\n",
    "def wait(workers):\n",
    "    wait_time = min([t for t, _ in workers if t > 0])\n",
    "    new_workers, finished = list(), list()\n",
    "    for worker in workers:\n",
    "        wtime, wtask = worker\n",
    "        if wtime <= wait_time:\n",
    "            new_workers.append((0, ''))\n",
    "            if wtime == wait_time: finished.append(wtask)\n",
    "        else:\n",
    "            new_workers.append((wtime - wait_time, wtask))\n",
    "    return new_workers, wait_time, finished\n",
    "\n",
    "def next_step_workers(edges, steps_done, workers, time):\n",
    "    reachables = reachable_nodes(edges, steps_done, workers)\n",
    "    if len(reachables) > 0:\n",
    "        workers, assigned = assign_to_worker(reachables, workers)\n",
    "    workers, wait_time, finished = wait(workers)\n",
    "    edges = [e for e in edges if not e[0] in finished]\n",
    "    new_steps = steps_done + finished\n",
    "    return edges, new_steps, workers, time + wait_time"
   ]
  },
  {
   "cell_type": "code",
   "execution_count": 7,
   "metadata": {
    "collapsed": true
   },
   "outputs": [],
   "source": [
    "node_time = {v: 60+k+1 for k, v in enumerate(ascii_uppercase)}\n",
    "n_workers = 5\n",
    "workers = [(0, '') for _ in range(n_workers)]\n",
    "\n",
    "steps = list()\n",
    "total_time = 0\n",
    "edges_extended = list(edges) + [(x, '*') for x in {e[1] for e in edges}.difference(e[0] for e in edges)]"
   ]
  },
  {
   "cell_type": "code",
   "execution_count": 8,
   "metadata": {
    "collapsed": false
   },
   "outputs": [
    {
     "data": {
      "text/plain": [
       "1081"
      ]
     },
     "execution_count": 8,
     "metadata": {},
     "output_type": "execute_result"
    }
   ],
   "source": [
    "while len(edges_extended) > 0:\n",
    "    edges_extended, steps, workers, total_time = next_step_workers(edges_extended, steps, workers, total_time)\n",
    "    \n",
    "total_time + max([wtime for wtime, _ in workers])"
   ]
  }
 ],
 "metadata": {
  "anaconda-cloud": {},
  "kernelspec": {
   "display_name": "Python [default]",
   "language": "python",
   "name": "python3"
  },
  "language_info": {
   "codemirror_mode": {
    "name": "ipython",
    "version": 3
   },
   "file_extension": ".py",
   "mimetype": "text/x-python",
   "name": "python",
   "nbconvert_exporter": "python",
   "pygments_lexer": "ipython3",
   "version": "3.4.5"
  }
 },
 "nbformat": 4,
 "nbformat_minor": 1
}
