{
 "cells": [
  {
   "cell_type": "markdown",
   "metadata": {},
   "source": [
    "# Day 8\n",
    "\n",
    "[Day 8 description](https://adventofcode.com/2018/day/8)\n",
    "\n",
    "I'm pretty satisfied of this solution. It's not particulary smart, but it uses pattern matching and recursion; for each \"subtree\" we have `n_nodes, n_metadata, *tail` where tail is another subtree, so we can use the same function recursively. The result is kind of clean. The only thing that I don't like is the `global all_metadata`, that I need to collect data in every step of the recursion.\n",
    "\n",
    "For the second part, we need to modify the function in order to keep track of the \"path\" of the subtree, so we can compute the correct value for the tree itself. We only need to modify `all_metadata`, which is now a dictionary, so instead of appending metadata to the same list, we compute the key as the path to subtree (`1` is the first subtree, `2` is the second subtree; so `121` is the first subtree of the second subtree of the root node `1`) and we add it to the dict with value the list of metadata."
   ]
  },
  {
   "cell_type": "code",
   "execution_count": 1,
   "metadata": {
    "collapsed": false
   },
   "outputs": [],
   "source": [
    "with open('AOC2018_08_input.txt') as f:\n",
    "    tree = [int(x) for x in f.read().split(\" \")]"
   ]
  },
  {
   "cell_type": "code",
   "execution_count": 2,
   "metadata": {
    "collapsed": false
   },
   "outputs": [
    {
     "data": {
      "text/plain": [
       "35911"
      ]
     },
     "execution_count": 2,
     "metadata": {},
     "output_type": "execute_result"
    }
   ],
   "source": [
    "all_metadata = list()\n",
    "\n",
    "def find_next_nodes(seq):\n",
    "    global all_metadata\n",
    "    n_nodes, n_metadata, *tail = seq\n",
    "    if n_nodes == 0:\n",
    "        metadata, rest = tail[:n_metadata], tail[n_metadata:]\n",
    "        all_metadata += metadata\n",
    "    else:\n",
    "        for i in range(n_nodes):\n",
    "            tail = find_next_nodes(tail)            \n",
    "        metadata, rest = tail[:n_metadata], tail[n_metadata:]\n",
    "        all_metadata += metadata\n",
    "    return rest\n",
    "\n",
    "find_next_nodes(tree)\n",
    "sum(all_metadata)"
   ]
  },
  {
   "cell_type": "code",
   "execution_count": 3,
   "metadata": {
    "collapsed": false
   },
   "outputs": [
    {
     "data": {
      "text/plain": [
       "17206"
      ]
     },
     "execution_count": 3,
     "metadata": {},
     "output_type": "execute_result"
    }
   ],
   "source": [
    "all_metadata = dict()\n",
    "\n",
    "def find_next_nodes_(seq, parent_name='1'):\n",
    "    global all_metadata\n",
    "    n_nodes, n_metadata, *tail = seq\n",
    "    if n_nodes == 0:\n",
    "        metadata, rest = tail[:n_metadata], tail[n_metadata:]\n",
    "        all_metadata[parent_name+'-'] = sum(metadata)\n",
    "    else:\n",
    "        for i in range(n_nodes):\n",
    "            tail = find_next_nodes_(tail, parent_name + str(i+1))\n",
    "        metadata, rest = tail[:n_metadata], tail[n_metadata:]\n",
    "        all_metadata[parent_name] = metadata\n",
    "    return rest\n",
    "\n",
    "def get_value_for_node(node_name, metadata):\n",
    "    if node_name + '-' in metadata:\n",
    "        return metadata[node_name + '-']\n",
    "    elif node_name in metadata:\n",
    "        node_metadata = metadata[node_name]\n",
    "        subvalues = []\n",
    "        for subnode in node_metadata:\n",
    "            subnode_name = node_name + str(subnode)\n",
    "            subvalues.append(get_value_for_node(subnode_name, all_metadata))\n",
    "        return sum(subvalues)\n",
    "    else:\n",
    "        return 0\n",
    "\n",
    "find_next_nodes_(tree)\n",
    "get_value_for_node('1', all_metadata)"
   ]
  },
  {
   "cell_type": "code",
   "execution_count": 4,
   "metadata": {
    "collapsed": false
   },
   "outputs": [
    {
     "data": {
      "text/plain": [
       "35911"
      ]
     },
     "execution_count": 4,
     "metadata": {},
     "output_type": "execute_result"
    }
   ],
   "source": [
    "# We can retrieve the previous result:\n",
    "subtree_values = sum([v for k, v in all_metadata.items() if k[-1] == '-'])\n",
    "leaves_values = sum([sum(v) for k, v in all_metadata.items() if k[-1] != '-'])\n",
    "subtree_values + leaves_values"
   ]
  }
 ],
 "metadata": {
  "anaconda-cloud": {},
  "kernelspec": {
   "display_name": "Python [default]",
   "language": "python",
   "name": "python3"
  },
  "language_info": {
   "codemirror_mode": {
    "name": "ipython",
    "version": 3
   },
   "file_extension": ".py",
   "mimetype": "text/x-python",
   "name": "python",
   "nbconvert_exporter": "python",
   "pygments_lexer": "ipython3",
   "version": "3.4.5"
  }
 },
 "nbformat": 4,
 "nbformat_minor": 1
}
