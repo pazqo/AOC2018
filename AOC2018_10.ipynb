{
 "cells": [
  {
   "cell_type": "markdown",
   "metadata": {},
   "source": [
    "# Day 10\n",
    "\n",
    "[Day 10 description](https://adventofcode.com/2018/day/10)\n",
    "\n",
    "This one is definitively one of the funniest challenges of AOC2018. I decided to go for a visual, interactive solution. I use numpy to track the position of points, then pylab to plot the result.\n",
    "\n",
    "After a few iterations, we can see that the points are moving towards `(0,0)`, hence we can perform a steps in thousands till we get closer to the solution, then we can go slower till we get the password."
   ]
  },
  {
   "cell_type": "code",
   "execution_count": 1,
   "metadata": {
    "collapsed": false
   },
   "outputs": [
    {
     "name": "stdout",
     "output_type": "stream",
     "text": [
      "Populating the interactive namespace from numpy and matplotlib\n"
     ]
    }
   ],
   "source": [
    "% pylab inline"
   ]
  },
  {
   "cell_type": "code",
   "execution_count": 2,
   "metadata": {
    "collapsed": false
   },
   "outputs": [],
   "source": [
    "with open('AOC2018_10_input.txt') as f:\n",
    "    raw = [x.strip() for x in f.readlines()]"
   ]
  },
  {
   "cell_type": "code",
   "execution_count": 3,
   "metadata": {
    "collapsed": true
   },
   "outputs": [],
   "source": [
    "def parse_row(r):\n",
    "    pos = np.array([int(r[10:16]), int(r[18:24])])\n",
    "    vel = np.array([int(r[36:38]), int(r[40:42])])\n",
    "    return pos, vel"
   ]
  },
  {
   "cell_type": "code",
   "execution_count": 4,
   "metadata": {
    "collapsed": false
   },
   "outputs": [],
   "source": [
    "points = []\n",
    "vels = []\n",
    "for r in raw:\n",
    "    pos, vel = parse_row(r)\n",
    "    points.append(pos)\n",
    "    vels.append(vel)\n",
    "points = np.array(points)\n",
    "vels = np.array(vels)"
   ]
  },
  {
   "cell_type": "code",
   "execution_count": 5,
   "metadata": {
    "collapsed": false
   },
   "outputs": [],
   "source": [
    "def next_positions(points, vels, steps=1):\n",
    "    return points + steps*vels"
   ]
  },
  {
   "cell_type": "code",
   "execution_count": 6,
   "metadata": {
    "collapsed": false
   },
   "outputs": [
    {
     "data": {
      "image/png": "[encoded data removed]",
      "text/plain": [
       "<matplotlib.figure.Figure at 0x116dedf28>"
      ]
     },
     "metadata": {},
     "output_type": "display_data"
    }
   ],
   "source": [
    "ps = next_positions(points, vels, 10144)\n",
    "plt.figure(figsize=(7, 1))\n",
    "x = plt.scatter(ps[:,0], -ps[:,1], s=30)"
   ]
  },
  {
   "cell_type": "code",
   "execution_count": 7,
   "metadata": {
    "collapsed": true
   },
   "outputs": [],
   "source": [
    "# part 1: GGLZLHCE\n",
    "# part 2: 10144 steps"
   ]
  }
 ],
 "metadata": {
  "anaconda-cloud": {},
  "kernelspec": {
   "display_name": "Python [default]",
   "language": "python",
   "name": "python3"
  },
  "language_info": {
   "codemirror_mode": {
    "name": "ipython",
    "version": 3
   },
   "file_extension": ".py",
   "mimetype": "text/x-python",
   "name": "python",
   "nbconvert_exporter": "python",
   "pygments_lexer": "ipython3",
   "version": "3.4.5"
  }
 },
 "nbformat": 4,
 "nbformat_minor": 1
}
