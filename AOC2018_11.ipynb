{
 "cells": [
  {
   "cell_type": "markdown",
   "metadata": {},
   "source": [
    "# Day 11\n",
    "\n",
    "[Day 11 description](https://adventofcode.com/2018/day/11)\n",
    "\n",
    "I was tempted to solve this with convolutional methods, but it was fine enough with standard numpy techniques.\n",
    "\n",
    "I make use ot `np.outer(xs, ys)`, which produces a rank 1 matrix with multiples of `xs` as rows. In the same fashion, I use `np.multiply` to multiply each row of a matrix by a scalar coming from another vector. This is a very fast way to setup the matrix starting from the input.\n",
    "\n",
    "Then we have a cycle (`~300x300`) to check every single rectangle of size 3x3, while we need to run it 300 times to solve part 2. This is kind of huge, but all the computations are fast enough. It can be simplified with some dynamic programming/memoization."
   ]
  },
  {
   "cell_type": "code",
   "execution_count": 1,
   "metadata": {
    "collapsed": true
   },
   "outputs": [],
   "source": [
    "import numpy as np"
   ]
  },
  {
   "cell_type": "code",
   "execution_count": 2,
   "metadata": {
    "collapsed": false
   },
   "outputs": [],
   "source": [
    "serial = 5153"
   ]
  },
  {
   "cell_type": "code",
   "execution_count": 3,
   "metadata": {
    "collapsed": false
   },
   "outputs": [],
   "source": [
    "xs = np.arange(1, 301)\n",
    "xs_ = xs + 10\n",
    "ys = np.arange(1, 301)\n",
    "cells_1 = np.outer(xs_, ys) + serial\n",
    "cells_2 = np.multiply(cells_1, xs_[:, np.newaxis])\n",
    "cells = ((cells_2 // 100) % 10) - 5"
   ]
  },
  {
   "cell_type": "code",
   "execution_count": 4,
   "metadata": {
    "collapsed": true
   },
   "outputs": [],
   "source": [
    "def cell_power(x, y, serial):\n",
    "    x_ = x + 10\n",
    "    s_ = x_*y + serial\n",
    "    s = s_*x_\n",
    "    return (s // 100) % 10 - 5"
   ]
  },
  {
   "cell_type": "code",
   "execution_count": 5,
   "metadata": {
    "collapsed": false
   },
   "outputs": [],
   "source": [
    "def zoom_square(top, left, s):\n",
    "    return cells[top-1:top-1+s, left-1:left-1+s].T"
   ]
  },
  {
   "cell_type": "code",
   "execution_count": 6,
   "metadata": {
    "collapsed": false
   },
   "outputs": [
    {
     "name": "stdout",
     "output_type": "stream",
     "text": [
      "31\n",
      "235,18,3\n",
      "--------\n",
      "43\n",
      "234,16,4\n",
      "--------\n",
      "59\n",
      "233,12,5\n",
      "--------\n",
      "59\n",
      "233,236,6\n",
      "--------\n",
      "68\n",
      "290,286,7\n",
      "--------\n",
      "69\n",
      "290,286,8\n",
      "--------\n",
      "64\n",
      "229,10,9\n",
      "--------\n",
      "78\n",
      "236,227,10\n",
      "--------\n",
      "88\n",
      "237,228,11\n",
      "--------\n",
      "110\n",
      "236,227,12\n",
      "--------\n",
      "98\n",
      "290,280,13\n",
      "--------\n",
      "107\n",
      "236,225,14\n",
      "--------\n",
      "106\n",
      "236,224,15\n",
      "--------\n",
      "100\n",
      "236,223,16\n",
      "--------\n",
      "90\n",
      "290,277,17\n",
      "--------\n",
      "99\n",
      "290,275,18\n",
      "--------\n",
      "100\n",
      "290,275,19\n",
      "--------\n"
     ]
    }
   ],
   "source": [
    "for k in range(3,20):\n",
    "    d = dict()\n",
    "    for i in range(1, 300 - 3):\n",
    "        for j in range(1, 300 - 3):\n",
    "            d[(i, j)] = np.sum(zoom_square(i, j, k))\n",
    "    (x, y), s = max(d.items(), key=lambda x: x[1])\n",
    "    print(s)\n",
    "    print(*[x, y, k], sep=',')\n",
    "    print(8*'-')"
   ]
  }
 ],
 "metadata": {
  "anaconda-cloud": {},
  "kernelspec": {
   "display_name": "Python [default]",
   "language": "python",
   "name": "python3"
  },
  "language_info": {
   "codemirror_mode": {
    "name": "ipython",
    "version": 3
   },
   "file_extension": ".py",
   "mimetype": "text/x-python",
   "name": "python",
   "nbconvert_exporter": "python",
   "pygments_lexer": "ipython3",
   "version": "3.4.5"
  }
 },
 "nbformat": 4,
 "nbformat_minor": 1
}
