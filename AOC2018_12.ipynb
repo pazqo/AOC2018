{
 "cells": [
  {
   "cell_type": "markdown",
   "metadata": {},
   "source": [
    "# Day 12\n",
    "\n",
    "[Day 12 description](https://adventofcode.com/2018/day/12)\n",
    "\n",
    "This was nice. It's a classical cellular automata model. For the first part, the task is just to implement the correct logic. But for the second part, we had to actually understand what was going on. I was actually expecting a periodical setup, so I had to find the pattern and the general rule.\n",
    "\n",
    "The most tricky part was to keep a data structure that extends to the left and to the right indefinitely, with the default `.` state. Of course this means that we cannot apply the rules to each 5-char group (there are infinitely many!) but we have to find a min/max index."
   ]
  },
  {
   "cell_type": "code",
   "execution_count": 1,
   "metadata": {
    "collapsed": true
   },
   "outputs": [],
   "source": [
    "from collections import defaultdict"
   ]
  },
  {
   "cell_type": "code",
   "execution_count": 2,
   "metadata": {
    "collapsed": false
   },
   "outputs": [],
   "source": [
    "with open('AOC2018_12_input.txt') as f:\n",
    "    raw = [x.strip() for x in f.readlines()]\n",
    "    init, _, *patterns_str = raw"
   ]
  },
  {
   "cell_type": "code",
   "execution_count": 3,
   "metadata": {
    "collapsed": false
   },
   "outputs": [],
   "source": [
    "rules_map = {x[:5]: x[9:10] for x in patterns_str}"
   ]
  },
  {
   "cell_type": "code",
   "execution_count": 4,
   "metadata": {
    "collapsed": false
   },
   "outputs": [],
   "source": [
    "initial_state_raw = init[15:]\n",
    "initial_state_map = defaultdict(lambda : '.')\n",
    "initial_state_map.update(enumerate(initial_state_raw))"
   ]
  },
  {
   "cell_type": "markdown",
   "metadata": {},
   "source": [
    "This function `state_slice` can be used both for displaying the whole situation and a single 5-char slice, by setting `M = m+5`."
   ]
  },
  {
   "cell_type": "code",
   "execution_count": 5,
   "metadata": {
    "collapsed": true
   },
   "outputs": [],
   "source": [
    "def state_slice(s, m=0, M=100):\n",
    "    return \"\".join([s[x] for x in range(m, M)])"
   ]
  },
  {
   "cell_type": "code",
   "execution_count": 6,
   "metadata": {
    "collapsed": false
   },
   "outputs": [],
   "source": [
    "def next_state(s):\n",
    "    new_state = defaultdict(lambda : '.')\n",
    "    m = min(k for k, v in s.items() if v == '#')\n",
    "    M = max(k for k, v in s.items() if v == '#')\n",
    "    for i in range(m-4, M+1):\n",
    "        pattern = state_slice(s, i, i+5)\n",
    "        new_state[i+2] = rules_map.get(pattern, '.')\n",
    "    return (new_state, m, M)"
   ]
  },
  {
   "cell_type": "code",
   "execution_count": 7,
   "metadata": {
    "collapsed": true
   },
   "outputs": [],
   "source": [
    "def full(iterations):\n",
    "    nstate = initial_state_map\n",
    "    for i in range(iterations):\n",
    "        nstate, *_ = next_state(nstate)\n",
    "    pots = [k for k, v in nstate.items() if v == '#']\n",
    "    return sum(pots)"
   ]
  },
  {
   "cell_type": "code",
   "execution_count": 8,
   "metadata": {
    "collapsed": false
   },
   "outputs": [
    {
     "data": {
      "text/plain": [
       "3258"
      ]
     },
     "execution_count": 8,
     "metadata": {},
     "output_type": "execute_result"
    }
   ],
   "source": [
    "iterations = 20\n",
    "full(iterations)"
   ]
  },
  {
   "cell_type": "markdown",
   "metadata": {},
   "source": [
    "The next version is the same as `full` until `last_iter` iteration, then we assume that the pattern is moving right one step at a time. Which means that we are adding 1 to each position for each further iteration. A manual check show that after 91 steps, `full` and `short` give the same results, so it became regular."
   ]
  },
  {
   "cell_type": "code",
   "execution_count": 9,
   "metadata": {
    "collapsed": true
   },
   "outputs": [],
   "source": [
    "def short(iterations, last_iter=100):\n",
    "    nstate = initial_state_map\n",
    "    max_iter = min(last_iter, iterations)\n",
    "    for i in range(max_iter):\n",
    "        nstate, *_ = next_state(nstate)\n",
    "    pots = [k for k, v in nstate.items() if v == '#']\n",
    "    if iterations > max_iter:\n",
    "        pots = [k + iterations - max_iter for k in pots]\n",
    "    return sum(pots)"
   ]
  },
  {
   "cell_type": "code",
   "execution_count": 10,
   "metadata": {
    "collapsed": true
   },
   "outputs": [],
   "source": [
    "iterations = 20"
   ]
  },
  {
   "cell_type": "code",
   "execution_count": 11,
   "metadata": {
    "collapsed": false
   },
   "outputs": [
    {
     "data": {
      "text/plain": [
       "3600000002022"
      ]
     },
     "execution_count": 11,
     "metadata": {},
     "output_type": "execute_result"
    }
   ],
   "source": [
    "short(50000000000, last_iter=91)"
   ]
  }
 ],
 "metadata": {
  "anaconda-cloud": {},
  "kernelspec": {
   "display_name": "Python [default]",
   "language": "python",
   "name": "python3"
  },
  "language_info": {
   "codemirror_mode": {
    "name": "ipython",
    "version": 3
   },
   "file_extension": ".py",
   "mimetype": "text/x-python",
   "name": "python",
   "nbconvert_exporter": "python",
   "pygments_lexer": "ipython3",
   "version": "3.4.5"
  }
 },
 "nbformat": 4,
 "nbformat_minor": 1
}
