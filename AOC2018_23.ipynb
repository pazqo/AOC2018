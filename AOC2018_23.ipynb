{
 "cells": [
  {
   "cell_type": "markdown",
   "metadata": {},
   "source": [
    "# Day 23\n",
    "\n",
    "[Day 23 description](https://adventofcode.com/2018/day/23)\n",
    "\n",
    "Well, this is the closest I have been to actually scoring points, in fact I got 278th in the second part.\n",
    "\n",
    "The first part is pretty straighforward. For the second part, a complete solution would require an enourmous effort, i.e. checking every single point in scope (`~10.000.000^3 = 10^21` points!).\n",
    "\n",
    "Instead, my reasoning was the following: let's divide the whole space in `20x20x20 = 8000`. We find the point which is in scope of most nanobots. Now we zoom in and we again divide the neighborhood in `8000` points. We repeat this until we get to very specific coordinates. Now we try to minimize the sum of coordinates (i.e., the closeness to 0).\n",
    "\n",
    "This is not guaranteed to be correct in general, but for some reason, it worked!"
   ]
  },
  {
   "cell_type": "code",
   "execution_count": 1,
   "metadata": {
    "collapsed": true
   },
   "outputs": [],
   "source": [
    "import numpy as np\n",
    "import re"
   ]
  },
  {
   "cell_type": "code",
   "execution_count": 2,
   "metadata": {
    "collapsed": true
   },
   "outputs": [],
   "source": [
    "def to_int(xs): return [int(x) for x in xs]\n",
    "\n",
    "nanobot_regex = re.compile(\"pos=<(-?\\d+),(-?\\d+),(-?\\d+)>, r=(\\d+)\")\n",
    "\n",
    "def parse_nanobot(raw):\n",
    "    x, y, z, r = to_int(nanobot_regex.findall(raw)[0])\n",
    "    return np.array([x,y,z]), r"
   ]
  },
  {
   "cell_type": "code",
   "execution_count": 3,
   "metadata": {
    "collapsed": true
   },
   "outputs": [],
   "source": [
    "def dist(nb1, nb2):\n",
    "    return np.abs(nb1[0] - nb2[0]).sum()"
   ]
  },
  {
   "cell_type": "code",
   "execution_count": 4,
   "metadata": {
    "collapsed": false
   },
   "outputs": [],
   "source": [
    "with open('AOC2018_23_input.txt') as f:\n",
    "    raws = [x.strip() for x in f.readlines()]"
   ]
  },
  {
   "cell_type": "code",
   "execution_count": 5,
   "metadata": {
    "collapsed": false
   },
   "outputs": [],
   "source": [
    "nanobots = np.zeros((len(raws), 3), dtype=int)\n",
    "radii = np.zeros(len(raws), dtype=int)\n",
    "for i, raw in enumerate(raws):\n",
    "    p, r = parse_nanobot(raw)\n",
    "    nanobots[i] = p\n",
    "    radii[i] = r"
   ]
  },
  {
   "cell_type": "code",
   "execution_count": 6,
   "metadata": {
    "collapsed": true
   },
   "outputs": [],
   "source": [
    "# part 1"
   ]
  },
  {
   "cell_type": "code",
   "execution_count": 7,
   "metadata": {
    "collapsed": false
   },
   "outputs": [
    {
     "data": {
      "text/plain": [
       "326"
      ]
     },
     "execution_count": 7,
     "metadata": {},
     "output_type": "execute_result"
    }
   ],
   "source": [
    "(np.abs(nanobots - nanobots[radii.argmax()]).sum(axis=1) <= radii[radii.argmax()]).sum()"
   ]
  },
  {
   "cell_type": "code",
   "execution_count": 8,
   "metadata": {
    "collapsed": true
   },
   "outputs": [],
   "source": [
    "# part 2"
   ]
  },
  {
   "cell_type": "code",
   "execution_count": 9,
   "metadata": {
    "collapsed": false
   },
   "outputs": [],
   "source": [
    "def find_nanobots_in_range(p, nanobots, radii):\n",
    "    return (np.abs(nanobots - p).sum(axis=1) <= radii).sum()"
   ]
  },
  {
   "cell_type": "code",
   "execution_count": 10,
   "metadata": {
    "collapsed": false
   },
   "outputs": [
    {
     "data": {
      "text/plain": [
       "(array([56738890, 47812644, 37921967]), 925)"
      ]
     },
     "execution_count": 10,
     "metadata": {},
     "output_type": "execute_result"
    }
   ],
   "source": [
    "old_center = 10*np.array([5673890,4781264,3792196])\n",
    "scale = 1\n",
    "nanobots_scale = nanobots / scale\n",
    "radii_scale = radii / scale\n",
    "results = []\n",
    "for x in range(-10, 10):\n",
    "    for y in range(-10, 10):\n",
    "        for z in range(-10, 10):\n",
    "            new_point = old_center + [x, y, z]\n",
    "            results.append((new_point, find_nanobots_in_range(new_point, nanobots_scale, radii_scale)))\n",
    "max(results, key=lambda x: x[-1])"
   ]
  },
  {
   "cell_type": "code",
   "execution_count": 11,
   "metadata": {
    "collapsed": false
   },
   "outputs": [
    {
     "data": {
      "text/plain": [
       "142473501"
      ]
     },
     "execution_count": 11,
     "metadata": {},
     "output_type": "execute_result"
    }
   ],
   "source": [
    "min([p for p, d in results if d == 925], key=lambda x: x.sum()).sum()"
   ]
  }
 ],
 "metadata": {
  "anaconda-cloud": {},
  "kernelspec": {
   "display_name": "Python [default]",
   "language": "python",
   "name": "python3"
  },
  "language_info": {
   "codemirror_mode": {
    "name": "ipython",
    "version": 3
   },
   "file_extension": ".py",
   "mimetype": "text/x-python",
   "name": "python",
   "nbconvert_exporter": "python",
   "pygments_lexer": "ipython3",
   "version": "3.4.5"
  }
 },
 "nbformat": 4,
 "nbformat_minor": 1
}
