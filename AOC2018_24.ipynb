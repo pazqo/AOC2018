{
 "cells": [
  {
   "cell_type": "markdown",
   "metadata": {},
   "source": [
    "# Day 24\n",
    "\n",
    "[Day 24 description](https://adventofcode.com/2018/day/24)\n",
    "\n",
    "This is again a game modeling. Nothing particulary tricky, just take care of all rules. The only point of attention is for the second part: before having the immune system winning, we have a situation of stale (the battle never ends); once we detect this situation, the second part is just a binary search"
   ]
  },
  {
   "cell_type": "code",
   "execution_count": 1,
   "metadata": {
    "collapsed": true
   },
   "outputs": [],
   "source": [
    "import re"
   ]
  },
  {
   "cell_type": "code",
   "execution_count": 2,
   "metadata": {
    "collapsed": true
   },
   "outputs": [],
   "source": [
    "def to_int(xs):\n",
    "    return [int(x) for x in xs]"
   ]
  },
  {
   "cell_type": "code",
   "execution_count": 3,
   "metadata": {
    "collapsed": false
   },
   "outputs": [],
   "source": [
    "raws = \"\"\"\n",
    "Immune System:\n",
    "17 units each with 5390 hit points (weak to radiation, bludgeoning) with an attack that does 4507 fire damage at initiative 2\n",
    "989 units each with 1274 hit points (immune to fire; weak to bludgeoning, slashing) with an attack that does 25 slashing damage at initiative 3\n",
    "\n",
    "Infection:\n",
    "801 units each with 4706 hit points (weak to radiation) with an attack that does 116 bludgeoning damage at initiative 1\n",
    "4485 units each with 2961 hit points (immune to radiation; weak to fire, cold) with an attack that does 12 slashing damage at initiative 4\n",
    " \"\"\"[1:-1].split(\"\\n\")\n",
    "n_infections = 2\n",
    "n_immunes = 2"
   ]
  },
  {
   "cell_type": "code",
   "execution_count": 4,
   "metadata": {
    "collapsed": false
   },
   "outputs": [],
   "source": [
    "with open('AOC2018_24_input.txt') as f:\n",
    "    raws = [x.strip() for x in f.readlines()]\n",
    "n_infections = 10\n",
    "n_immunes = 10"
   ]
  },
  {
   "cell_type": "code",
   "execution_count": 5,
   "metadata": {
    "collapsed": false
   },
   "outputs": [],
   "source": [
    "re_numbers = re.compile(\"\"\"(\\d+) units each with (\\d+) hit points (?:\\(.*\\) )?with an attack that does (\\d+) (?:\\w+) damage at initiative (\\d+)\"\"\")\n",
    "re_atype = re.compile(\"\"\"attack that does (?:\\d+) (\\w+) damage\"\"\")\n",
    "re_weak = re.compile(\"\"\"weak to ([^\\);]*)\"\"\")\n",
    "re_immune = re.compile(\"\"\"immune to ([^\\);]*)\"\"\")"
   ]
  },
  {
   "cell_type": "code",
   "execution_count": 6,
   "metadata": {
    "collapsed": true
   },
   "outputs": [],
   "source": [
    "class Group:\n",
    "    def __init__(self, t, i, desc, boost=0):\n",
    "        self.id = \"%s_%s\" % (t, i)\n",
    "        n, hp, a, initiative = to_int(re_numbers.findall(desc)[0])\n",
    "        weaknesses_ = re_weak.findall(desc)\n",
    "        immunities_ = re_immune.findall(desc)\n",
    "        atype_ = re_atype.findall(desc)\n",
    "        self.n = n\n",
    "        self.hp = hp\n",
    "        self.a = a\n",
    "        if t == 'imm':\n",
    "            self.a += boost\n",
    "        self.atype = atype_[0]\n",
    "        self.initiative = initiative\n",
    "        self.weaknesses = []\n",
    "        if len(weaknesses_) > 0:\n",
    "            self.weaknesses = [x.strip() for x in weaknesses_[0].split(\",\")]\n",
    "        self.immunities = []\n",
    "        if len(immunities_) > 0:\n",
    "            self.immunities = [x.strip() for x in immunities_[0].split(\",\")]\n",
    "    def power(self):\n",
    "        return self.n * self.a\n",
    "            \n",
    "    def damage(self, other):\n",
    "        base_damage = self.power()\n",
    "        if self.atype in other.immunities:\n",
    "            return 0\n",
    "        elif self.atype in other.weaknesses:\n",
    "            return 2*base_damage\n",
    "        else:\n",
    "            return base_damage\n",
    "\n",
    "    def attack(self, other):\n",
    "        dmg = self.damage(other)\n",
    "        killed_units = dmg // other.hp\n",
    "        other.n -= killed_units\n",
    "        if other.n <= 0:\n",
    "            return (True, killed_units)\n",
    "        else:\n",
    "            return (False, killed_units)\n",
    "        \n",
    "    def select_target(self, others):\n",
    "        if len(others) == 0:\n",
    "            return None\n",
    "        max([(self.damage(x), x.power(), x.initiative) for x in others])\n",
    "        d, _, _, target = max([(self.damage(x), x.power(), x.initiative, x) for x in others])\n",
    "        if d > 0:\n",
    "            return target\n",
    "        else:\n",
    "            return None\n",
    "        \n",
    "    def __repr__(self):\n",
    "        return str(self.__dict__)"
   ]
  },
  {
   "cell_type": "code",
   "execution_count": 7,
   "metadata": {
    "collapsed": true
   },
   "outputs": [],
   "source": [
    "def compute_damage(g1, g2):\n",
    "    base_damage = g1.power\n",
    "    if g1.atype in g2.immunities:\n",
    "        return 0\n",
    "    if g1.atype in g2.weaknesses:\n",
    "        return 2*base_damage\n",
    "    else:\n",
    "        return base_damage"
   ]
  },
  {
   "cell_type": "code",
   "execution_count": 8,
   "metadata": {
    "collapsed": false
   },
   "outputs": [],
   "source": [
    "### Immune system\n",
    "immunes = {}\n",
    "for i in range(1, 1+n_immunes):\n",
    "    g = Group('imm', i, raws[i])\n",
    "    immunes[g.id] = g\n",
    "\n",
    "# Infection\n",
    "infections = {}\n",
    "for i in range(3 + n_immunes, 3 + n_immunes + n_infections):\n",
    "    g = Group('inf', i-12, raws[i])\n",
    "    infections[g.id] = g\n",
    "    \n",
    "all_groups = dict()\n",
    "all_groups.update(immunes)\n",
    "all_groups.update(infections)"
   ]
  },
  {
   "cell_type": "code",
   "execution_count": 9,
   "metadata": {
    "collapsed": false
   },
   "outputs": [
    {
     "name": "stdout",
     "output_type": "stream",
     "text": [
      "19381\n"
     ]
    }
   ],
   "source": [
    "c = 0\n",
    "while len(infections) > 0 and len(immunes) > 0:\n",
    "    c += 1\n",
    "    list_of_attacks = []\n",
    "    imm_taken = set()\n",
    "    for id_inf, inf in sorted(infections.items(), key=lambda x: (-x[1].power(), -x[1].initiative)):\n",
    "        targets = [v for k, v in immunes.items() if not k in imm_taken]\n",
    "        enemy = inf.select_target(targets)\n",
    "        if enemy:\n",
    "            list_of_attacks.append((inf, enemy))\n",
    "            imm_taken.add(enemy.id)\n",
    "    inf_taken = set()\n",
    "    for id_imm, imm in sorted(immunes.items(), key=lambda x: (-x[1].power(), -x[1].initiative)):\n",
    "        targets = [v for k, v in infections.items() if not k in inf_taken]\n",
    "        enemy = imm.select_target(targets)\n",
    "        if enemy:\n",
    "            list_of_attacks.append((imm, enemy))\n",
    "            inf_taken.add(enemy.id)\n",
    "\n",
    "    for attacker, defender in sorted(list_of_attacks, key=lambda x: -x[0].initiative):\n",
    "        if attacker.n > 0:\n",
    "            is_dead, k = attacker.attack(defender)\n",
    "            if is_dead:\n",
    "                if defender.id.startswith('imm'):\n",
    "                    immunes.pop(defender.id)\n",
    "                else:\n",
    "                    infections.pop(defender.id)\n",
    "            else:\n",
    "                pass\n",
    "print(sum([inf.n for k, inf in infections.items()]) + sum([inf.n for k, inf in immunes.items()]))"
   ]
  },
  {
   "cell_type": "code",
   "execution_count": 10,
   "metadata": {
    "collapsed": false
   },
   "outputs": [
    {
     "name": "stdout",
     "output_type": "stream",
     "text": [
      "3045\n"
     ]
    }
   ],
   "source": [
    "boost = 34\n",
    "\n",
    "### Immune system\n",
    "immunes = {}\n",
    "for i in range(1, 1+n_immunes):\n",
    "    g = Group('imm', i, raws[i], boost)\n",
    "    immunes[g.id] = g\n",
    "\n",
    "# Infection\n",
    "infections = {}\n",
    "for i in range(3 + n_immunes, 3 + n_immunes + n_infections):\n",
    "    g = Group('inf', i-12, raws[i])\n",
    "    infections[g.id] = g\n",
    "    \n",
    "all_groups = dict()\n",
    "all_groups.update(immunes)\n",
    "all_groups.update(infections)\n",
    "\n",
    "c = 0\n",
    "while len(infections) > 0 and len(immunes) > 0:\n",
    "    c += 1\n",
    "    list_of_attacks = []\n",
    "    imm_taken = set()\n",
    "    for id_inf, inf in sorted(infections.items(), key=lambda x: (-x[1].power(), -x[1].initiative)):\n",
    "        targets = [v for k, v in immunes.items() if not k in imm_taken]\n",
    "        enemy = inf.select_target(targets)\n",
    "        if enemy:\n",
    "            list_of_attacks.append((inf, enemy))\n",
    "            imm_taken.add(enemy.id)\n",
    "    inf_taken = set()\n",
    "    for id_imm, imm in sorted(immunes.items(), key=lambda x: (-x[1].power(), -x[1].initiative)):\n",
    "        targets = [v for k, v in infections.items() if not k in inf_taken]\n",
    "        enemy = imm.select_target(targets)\n",
    "        if enemy:\n",
    "            list_of_attacks.append((imm, enemy))\n",
    "            inf_taken.add(enemy.id)\n",
    "\n",
    "    for attacker, defender in sorted(list_of_attacks, key=lambda x: -x[0].initiative):\n",
    "        if attacker.n > 0:\n",
    "            is_dead, k = attacker.attack(defender)\n",
    "            if is_dead:\n",
    "                if defender.id.startswith('imm'):\n",
    "                    immunes.pop(defender.id)\n",
    "                else:\n",
    "                    infections.pop(defender.id)\n",
    "            else:\n",
    "                pass\n",
    "print(sum([inf.n for k, inf in infections.items()]) + sum([inf.n for k, inf in immunes.items()]))"
   ]
  }
 ],
 "metadata": {
  "anaconda-cloud": {},
  "kernelspec": {
   "display_name": "Python [default]",
   "language": "python",
   "name": "python3"
  },
  "language_info": {
   "codemirror_mode": {
    "name": "ipython",
    "version": 3
   },
   "file_extension": ".py",
   "mimetype": "text/x-python",
   "name": "python",
   "nbconvert_exporter": "python",
   "pygments_lexer": "ipython3",
   "version": "3.4.5"
  }
 },
 "nbformat": 4,
 "nbformat_minor": 1
}
